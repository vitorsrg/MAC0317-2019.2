{
 "cells": [
  {
   "cell_type": "markdown",
   "metadata": {},
   "source": [
    "# Exercícios\n",
    "\n",
    "1. Baixar o arquivo \"Lena.png\" e aprender a carregá-la em um array 2D numpy\n",
    "\n",
    "2. Implementar a transformada DFT em 2D\n",
    "\n",
    "3. Comparar resultados com a função numpy.fft.fft2(.)\n",
    "\n",
    "4. Transformar \"Lena\" para o espaço de frequências e plotar seu espectro\n",
    "\n",
    "5. Utilizar uma função Gaussiana centralizada no meio da imagem e com desvios padrão sigma_x e sigma_y, e filtrar o espectro\n",
    "\n",
    "6. Realizar a transformada inversa após filtragem do espectro\n",
    "\n",
    "7. Criar um array 2D em numpy que represente um fundo preto e um quadrado \"branco\" de dimensões 1/4 da imagem, posicionado no centro da imagem, com intensidade=1.\n",
    "\n",
    "8. Transformar a imagem para o espaço de frequências e filtrá-la com a mesma função Gaussiana\n",
    "\n",
    "9. Observar o efeito da filtragem no espaço da imagem, com diferentes sigmas.\n",
    "\n",
    "10. Repetir os passos 7-9, rotacionando o quadro em 30 graus. (Dica: veja a função rotate da biblioteca scipy)"
   ]
  },
  {
   "cell_type": "code",
   "execution_count": 1,
   "metadata": {
    "ExecuteTime": {
     "end_time": "2019-10-27T23:13:48.484349Z",
     "start_time": "2019-10-27T23:13:47.939532Z"
    }
   },
   "outputs": [],
   "source": [
    "import matplotlib as mpl\n",
    "import matplotlib.cm\n",
    "import matplotlib.pyplot as plt\n",
    "import matplotlib.gridspec as gridspec\n",
    "import numpy as np\n",
    "\n",
    "from matplotlib import colorbar\n",
    "from matplotlib.colors import LogNorm, Normalize, to_rgb\n",
    "\n",
    "from mpl_toolkits.axes_grid1 import make_axes_locatable\n",
    "\n",
    "from PIL import Image\n",
    "\n",
    "mpl.rcParams['axes.titlesize'] = 10\n",
    "mpl.rcParams['axes.labelsize'] = 8\n",
    "mpl.rcParams['xtick.labelsize'] = 8\n",
    "mpl.rcParams['ytick.labelsize'] = 8"
   ]
  },
  {
   "cell_type": "code",
   "execution_count": 2,
   "metadata": {
    "ExecuteTime": {
     "end_time": "2019-10-27T23:13:48.496527Z",
     "start_time": "2019-10-27T23:13:48.488049Z"
    }
   },
   "outputs": [],
   "source": [
    "def add_colorbar(ax, pos='right', size=0.1, pad=0.05, \n",
    "                 cmap=None, norm=None, off=False, \n",
    "                 orientation='vertical', sharex=None):\n",
    "    divider = make_axes_locatable(ax)\n",
    "    bar = divider.append_axes(pos, size, pad=pad, sharex=sharex)\n",
    "    \n",
    "    if isinstance(cmap, str):\n",
    "        cmap = matplotlib.cm.cmap_d[cmap]\n",
    "\n",
    "    if off:\n",
    "        bar.axis('off')\n",
    "    else:\n",
    "        colorbar.ColorbarBase(bar, cmap=cmap, norm=norm, \n",
    "                              orientation=orientation)\n",
    "\n",
    "    return bar"
   ]
  },
  {
   "cell_type": "code",
   "execution_count": 3,
   "metadata": {
    "ExecuteTime": {
     "end_time": "2019-10-27T23:13:48.504718Z",
     "start_time": "2019-10-27T23:13:48.500686Z"
    }
   },
   "outputs": [],
   "source": [
    "img = np.zeros((512, 512))"
   ]
  },
  {
   "cell_type": "code",
   "execution_count": 4,
   "metadata": {
    "ExecuteTime": {
     "end_time": "2019-10-27T23:13:48.514104Z",
     "start_time": "2019-10-27T23:13:48.509566Z"
    }
   },
   "outputs": [],
   "source": [
    "def drawimg(ax, title, img, cmap, norm):\n",
    "    ax.set_title(title)\n",
    "    ax.imshow(img, cmap=cmap, norm=norm)\n",
    "    add_colorbar(ax, cmap=cmap, norm=norm)"
   ]
  },
  {
   "cell_type": "code",
   "execution_count": 5,
   "metadata": {
    "ExecuteTime": {
     "end_time": "2019-10-27T23:13:48.520836Z",
     "start_time": "2019-10-27T23:13:48.516301Z"
    }
   },
   "outputs": [],
   "source": [
    "def gauss(arr, sx, sy):\n",
    "    X, Y = arr.shape\n",
    "    x, y = np.mgrid[0:X, 0:Y]\n",
    "    \n",
    "    return np.exp(-((x-X/2)**2/(2*sx**2) + (y-Y/2)**2/(2*sy**2))**2)"
   ]
  },
  {
   "cell_type": "code",
   "execution_count": 6,
   "metadata": {
    "ExecuteTime": {
     "end_time": "2019-10-27T23:13:51.513724Z",
     "start_time": "2019-10-27T23:13:48.522791Z"
    },
    "scrolled": false
   },
   "outputs": [
    {
     "data": {
      "application/vnd.jupyter.widget-view+json": {
       "model_id": "6c6c4a426a1e459ab5e26c588f577f17",
       "version_major": 2,
       "version_minor": 0
      },
      "text/plain": [
       "interactive(children=(FloatSlider(value=0.5, description='cx', max=1.0), FloatSlider(value=0.5, description='c…"
      ]
     },
     "metadata": {},
     "output_type": "display_data"
    }
   ],
   "source": [
    "from ipywidgets import interactive\n",
    "from scipy import ndimage\n",
    "\n",
    "def plot(cx=1/2, cy=1/2, ax=1/5, ay=1/5, sx=0.5, sy=0.5, deg=0):\n",
    "    fig, axis = plt.subplots(2, 4, figsize=(24, 12))\n",
    "    fig.set_tight_layout(True)\n",
    "    \n",
    "    s = img.shape\n",
    "    \n",
    "    ret = np.zeros(img.shape)\n",
    "    ret[max(int(s[0]*cx-s[0]*ax/2), 0):min(int(s[0]*cx+s[0]*ax/2), s[1]), \\\n",
    "        max(int(s[1]*cy-s[1]*ay/2), 0):min(int(s[1]*cy+s[1]*ay/2), s[1])] = 1\n",
    "    ret = ndimage.rotate(ret, deg, reshape=False, order=5)\n",
    "    \n",
    "    ret_fft = np.fft.fftshift(np.fft.fft2(ret))\n",
    "    \n",
    "    norml0 = Normalize(0, 1)\n",
    "    normlp = Normalize(0, np.log1p(np.sum(ret)))\n",
    "    \n",
    "    drawimg(axis[0, 0], 'Rectangle Filter', ret, 'gray', norml0)\n",
    "    drawimg(axis[0, 1], 'SFFT2 Rectangle Filter Abs', np.log1p(np.abs(ret_fft)), 'viridis', normlp)\n",
    "    drawimg(axis[0, 2], 'SFFT2 Rectangle Filter Real', np.log1p(np.real(ret_fft)), 'viridis', normlp)\n",
    "    drawimg(axis[0, 3], 'SFFT2 Rectangle Filter Imag', np.log1p(np.imag(ret_fft)), 'viridis', normlp)\n",
    "    \n",
    "    gss = gauss(ret, 1/sx, 1/sy)\n",
    "    ret_gss = np.real(np.fft.ifft2(np.fft.ifftshift(np.fft.fftshift(np.fft.fft2(ret))*gss)))\n",
    "    \n",
    "    ret_gss_fft = np.fft.fftshift(np.fft.fft2(ret_gss))\n",
    "    \n",
    "    drawimg(axis[1, 0], 'Rectangle Gaussian-Filtered', ret_gss, 'gray', norml0)\n",
    "    drawimg(axis[1, 1], 'SFFT2 Rectangle Gaussian-Filtered Abs', np.log1p(np.abs(ret_gss_fft)), 'viridis', normlp)\n",
    "    drawimg(axis[1, 2], 'SFFT2 Rectangle Gaussian-Filtered Real', np.log1p(np.real(ret_gss_fft)), 'viridis', normlp)\n",
    "    drawimg(axis[1, 3], 'SFFT2 Rectangle Gaussian-Filtered Imag', np.log1p(np.imag(ret_gss_fft)), 'viridis', normlp)\n",
    "\n",
    "interactive(plot, cx=(0, 1, 0.1), cy=(0, 1, 0.1), ax=(0, 1, 0.1), ay=(0, 1, 0.1), sx=(0.01, 0.1, 0.01), sy=(0.01, 0.1, 0.01), deg=(0, 360, 10))"
   ]
  }
 ],
 "metadata": {
  "kernelspec": {
   "display_name": "Python 3",
   "language": "python",
   "name": "python3"
  },
  "language_info": {
   "codemirror_mode": {
    "name": "ipython",
    "version": 3
   },
   "file_extension": ".py",
   "mimetype": "text/x-python",
   "name": "python",
   "nbconvert_exporter": "python",
   "pygments_lexer": "ipython3",
   "version": "3.6.8"
  },
  "toc": {
   "base_numbering": 1,
   "nav_menu": {},
   "number_sections": true,
   "sideBar": true,
   "skip_h1_title": false,
   "title_cell": "Table of Contents",
   "title_sidebar": "Contents",
   "toc_cell": false,
   "toc_position": {},
   "toc_section_display": true,
   "toc_window_display": false
  }
 },
 "nbformat": 4,
 "nbformat_minor": 2
}
